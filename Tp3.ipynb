{
  "nbformat": 4,
  "nbformat_minor": 0,
  "metadata": {
    "colab": {
      "provenance": [],
      "authorship_tag": "ABX9TyPGOVsWzwINcj/zpbsSgvHq",
      "include_colab_link": true
    },
    "kernelspec": {
      "name": "python3",
      "display_name": "Python 3"
    },
    "language_info": {
      "name": "python"
    }
  },
  "cells": [
    {
      "cell_type": "markdown",
      "metadata": {
        "id": "view-in-github",
        "colab_type": "text"
      },
      "source": [
        "<a href=\"https://colab.research.google.com/github/nournaimi2003/workshop-3/blob/master/Tp3.ipynb\" target=\"_parent\"><img src=\"https://colab.research.google.com/assets/colab-badge.svg\" alt=\"Open In Colab\"/></a>"
      ]
    },
    {
      "cell_type": "code",
      "execution_count": 5,
      "metadata": {
        "colab": {
          "base_uri": "https://localhost:8080/"
        },
        "id": "jI6RulT0bwcm",
        "outputId": "1517e859-e8a8-4ecf-cd7f-96d4e85e6136"
      },
      "outputs": [
        {
          "output_type": "stream",
          "name": "stdout",
          "text": [
            "le DataFrame a 4 lignes et 4\n"
          ]
        }
      ],
      "source": [
        "import pandas as pd\n",
        "import matplotlib.pyplot as plt\n",
        "data ={\n",
        "    'nom':['alice' ,'bob', 'asma', 'nour'],\n",
        "     'age':['15' ,'20', '28', '30'],\n",
        "     'salaire':['6000' ,'8000', '10000', '2500'],\n",
        "     'departement':['PH' ,'ventes', 'finance', 'rh'],\n",
        "}\n",
        "df = pd.DataFrame(data)\n",
        "df\n",
        "# Q1\n",
        "nb_lignes , nb_colonnes = df.shape\n",
        "print(f\"le DataFrame a {nb_lignes} lignes et {nb_colonnes}\")\n"
      ]
    }
  ]
}